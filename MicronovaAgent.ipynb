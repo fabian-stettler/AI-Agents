{
 "cells": [
  {
   "cell_type": "code",
   "execution_count": 5,
   "id": "7d3b7c97",
   "metadata": {},
   "outputs": [
    {
     "data": {
      "text/plain": [
       "True"
      ]
     },
     "execution_count": 5,
     "metadata": {},
     "output_type": "execute_result"
    }
   ],
   "source": [
    "from dotenv import load_dotenv\n",
    "import os\n",
    "from langchain_openai import OpenAIEmbeddings\n",
    "\n",
    "# Laden der Umgebungsvariablen aus der .env-Datei\n",
    "\n",
    "load_dotenv(dotenv_path=\"/home/fabian/SpassProjekte/langchain_Tutorials/.env\")"
   ]
  },
  {
   "cell_type": "code",
   "execution_count": 6,
   "id": "70c9b00a",
   "metadata": {},
   "outputs": [
    {
     "name": "stdout",
     "output_type": "stream",
     "text": [
      "OpenAI API Key is loaded correctly.\n",
      "DeepSeek API Key is loaded correctly.\n"
     ]
    }
   ],
   "source": [
    "OPENAI_API_KEY = os.getenv(\"OPENAI_API_KEY\")\n",
    "print(\"OpenAI API Key is loaded correctly.\") if OPENAI_API_KEY else print(\"OpenAI API Key is NOT loaded.\")\n",
    "\n",
    "DEEP_SEEK_API_KEY = os.getenv(\"DEEP_SEEK_API_KEY\")\n",
    "print(\"DeepSeek API Key is loaded correctly.\") if DEEP_SEEK_API_KEY else print(\"DeepSeek API Key is NOT loaded.\")\n"
   ]
  },
  {
   "cell_type": "code",
   "execution_count": 7,
   "id": "4ef61167",
   "metadata": {},
   "outputs": [],
   "source": [
    "import getpass\n",
    "import os\n",
    "from langchain.chat_models import init_chat_model\n",
    "\n",
    "os.environ[\"DEEPSEEK_API_KEY\"] = DEEP_SEEK_API_KEY\n",
    "os.environ[\"OPENAI_API_KEY\"] = OPENAI_API_KEY\n",
    "\n",
    "llm = init_chat_model(\"deepseek-chat\", model_provider=\"deepseek\")"
   ]
  },
  {
   "cell_type": "code",
   "execution_count": 8,
   "id": "43a09c80",
   "metadata": {},
   "outputs": [],
   "source": [
    "import getpass\n",
    "import os\n",
    "\n",
    "\n",
    "from langchain_openai import OpenAIEmbeddings\n",
    "\n",
    "embeddings = OpenAIEmbeddings(model=\"text-embedding-3-large\")"
   ]
  },
  {
   "cell_type": "code",
   "execution_count": 9,
   "id": "e718a4c0",
   "metadata": {},
   "outputs": [],
   "source": [
    "from langchain_chroma import Chroma\n",
    "\n",
    "vector_store = Chroma(\n",
    "    collection_name=\"Micronova\",  # Name der Sammlung\n",
    "    embedding_function=embeddings,\n",
    "    persist_directory=\"./chroma_langchain_db\",  # Where to save data locally, remove if not necessary\n",
    ")"
   ]
  },
  {
   "cell_type": "code",
   "execution_count": null,
   "id": "a333fcd6",
   "metadata": {},
   "outputs": [],
   "source": []
  },
  {
   "cell_type": "code",
   "execution_count": 2,
   "id": "b3fe7cc4",
   "metadata": {},
   "outputs": [
    {
     "name": "stderr",
     "output_type": "stream",
     "text": [
      "parsing for Object Streams\n"
     ]
    },
    {
     "name": "stdout",
     "output_type": "stream",
     "text": [
      "Total characters: 150298\n"
     ]
    }
   ],
   "source": [
    "from langchain_community.document_loaders import PyPDFLoader, TextLoader\n",
    "\n",
    "# Specify the path to your file\n",
    "file_path = \"The_Next_End_of_the_World_PDF.pdf\"  # Change to your .txt or .pdf file\n",
    "\n",
    "if file_path.endswith(\".pdf\"):\n",
    "    loader = PyPDFLoader(file_path)\n",
    "elif file_path.endswith(\".txt\"):\n",
    "    loader = TextLoader(file_path)\n",
    "else:\n",
    "    raise ValueError(\"Unsupported file type. Please use a .pdf or .txt file.\")\n",
    "\n",
    "docs = loader.load()\n",
    "\n",
    "assert len(docs) >= 1\n",
    "print(f\"Total characters: {sum(len(doc.page_content) for doc in docs)}\")"
   ]
  },
  {
   "cell_type": "code",
   "execution_count": 3,
   "id": "3ea7f39f",
   "metadata": {},
   "outputs": [
    {
     "name": "stdout",
     "output_type": "stream",
     "text": [
      "Split blog post into 290 sub-documents.\n"
     ]
    }
   ],
   "source": [
    "from langchain_text_splitters import RecursiveCharacterTextSplitter\n",
    "\n",
    "text_splitter = RecursiveCharacterTextSplitter(\n",
    "    chunk_size=1000,  # chunk size (characters)\n",
    "    chunk_overlap=200,  # chunk overlap (characters)\n",
    "    add_start_index=True,  # track index in original document\n",
    ")\n",
    "all_splits = text_splitter.split_documents(docs)\n",
    "\n",
    "print(f\"Split blog post into {len(all_splits)} sub-documents.\")"
   ]
  },
  {
   "cell_type": "code",
   "execution_count": 10,
   "id": "16a81ecf",
   "metadata": {},
   "outputs": [
    {
     "name": "stdout",
     "output_type": "stream",
     "text": [
      "['fd9ab0ba-6e1a-4a42-a17f-3c21d4edfee8', '748c0118-e7f1-4b8d-b6d0-bf7589fdb123', 'dd7d3a24-617e-4e69-9b2b-682106e15d61']\n"
     ]
    }
   ],
   "source": [
    "document_ids = vector_store.add_documents(documents=all_splits)\n",
    "\n",
    "print(document_ids[:3])"
   ]
  },
  {
   "cell_type": "code",
   "execution_count": 11,
   "id": "8ac36942",
   "metadata": {},
   "outputs": [],
   "source": [
    "from langchain_core.documents import Document\n",
    "from typing_extensions import List, TypedDict\n",
    "\n",
    "\n",
    "class State(TypedDict):\n",
    "    question: str\n",
    "    context: List[Document]\n",
    "    answer: str"
   ]
  },
  {
   "cell_type": "code",
   "execution_count": 21,
   "id": "ada08fce",
   "metadata": {},
   "outputs": [],
   "source": [
    "from langchain_core.prompts import PromptTemplate\n",
    "\n",
    "prompt = PromptTemplate.from_template(\n",
    "    \"Answer the following question with the given context\\n\\ncontext:\\n{context}\\n\\nquestion:\\n{question}\\n\\nanswer:\"\n",
    ")\n",
    "\n",
    "def retrieve(state: State):\n",
    "    retrieved_docs = vector_store.similarity_search(state[\"question\"])\n",
    "    return {\"context\": retrieved_docs}\n",
    "\n",
    "\n",
    "def generate(state: State):\n",
    "    docs_content = \"\\n\\n\".join(doc.page_content for doc in state[\"context\"])\n",
    "    messages = prompt.invoke({\"question\": state[\"question\"], \"context\": docs_content})\n",
    "    response = llm.invoke(messages)\n",
    "    return {\"answer\": response.content}"
   ]
  },
  {
   "cell_type": "code",
   "execution_count": 13,
   "id": "b946b2f3",
   "metadata": {},
   "outputs": [],
   "source": [
    "from langgraph.graph import START, StateGraph\n",
    "\n",
    "graph_builder = StateGraph(State).add_sequence([retrieve, generate])\n",
    "graph_builder.add_edge(START, \"retrieve\")\n",
    "graph = graph_builder.compile()"
   ]
  },
  {
   "cell_type": "code",
   "execution_count": 14,
   "id": "3face084",
   "metadata": {},
   "outputs": [
    {
     "data": {
      "image/png": "[encoded data removed]",
      "text/plain": [
       "<IPython.core.display.Image object>"
      ]
     },
     "metadata": {},
     "output_type": "display_data"
    }
   ],
   "source": [
    "from IPython.display import Image, display\n",
    "\n",
    "display(Image(graph.get_graph().draw_mermaid_png()))"
   ]
  },
  {
   "cell_type": "code",
   "execution_count": 24,
   "id": "a0bcbcba",
   "metadata": {},
   "outputs": [
    {
     "name": "stdout",
     "output_type": "stream",
     "text": [
      "Context: [Document(id='94ac9cc0-38ea-4ff0-ac02-0a86b4b5f06e', metadata={'page_label': '96', 'aapl:keywords': '[]', 'author': 'Ben D', 'keywords': '', 'source': 'The_Next_End_of_the_World_PDF.pdf', 'start_index': 807, 'producer': 'Mac OS X 10.13.6 Quartz PDFContext', 'subject': '', 'creationdate': \"D:20210314144439Z00'00'\", 'page': 95, 'title': 'The Next End of the World', 'total_pages': 109, 'moddate': '2025-06-26T23:13:17+02:00', 'creator': 'Word'}, page_content='and Siberia. The sloshing-back of the oceans would run well north into the Indian subcontinent and also south of the normal reaches of the Baltic and North Seas.   Not only do Thomas’ new pole positions match the current tracks observable today (which he couldn’t have known), but the event where the internal core-mantle boundary plumes break down and new ones emerge at the poles (like a rare cosmological event) would tilt the earth 90 degrees and relatively back each alternating cycle. I support this scenario most of all. The new poles should be the Bay of Bengal and Ecuador, and the equator would run through Greenland, Western Canada, New Zealand, Antarctica, Northeastern Africa, and Southwestern Europe. The axis of tilt would be in East Africa and the Pacific- exactly where the current core-mantle plumes are found. However, since this is truly unpredictable and we are only humans doing our best…  I do NOT recommend trying to gauge the wave direction for your location, just prepare'), Document(id='8d09ce6d-6f4c-46cf-a724-6646521cbef7', metadata={'start_index': 1034, 'aapl:keywords': '[]', 'author': 'Ben D', 'producer': 'Mac OS X 10.13.6 Quartz PDFContext', 'subject': '', 'total_pages': 109, 'page_label': '77', 'title': 'The Next End of the World', 'moddate': '2025-06-26T23:13:17+02:00', 'creationdate': \"D:20210314144439Z00'00'\", 'page': 76, 'keywords': '', 'source': 'The_Next_End_of_the_World_PDF.pdf', 'creator': 'Word'}, page_content='The north magnetic pole is blazing a path that has accelerated to dozens of kilometers per year, and which happens to be on a collision course with the south magnetic pole (pictured). Logic might suggest the poles should remain geographically opposite to each other as they flip, but that’s simply not what is happening.'), Document(id='70972d88-609f-4354-b19b-a2c750800c55', metadata={'title': 'The Next End of the World', 'keywords': '', 'source': 'The_Next_End_of_the_World_PDF.pdf', 'producer': 'Mac OS X 10.13.6 Quartz PDFContext', 'page': 62, 'creator': 'Word', 'creationdate': \"D:20210314144439Z00'00'\", 'author': 'Ben D', 'total_pages': 109, 'subject': '', 'moddate': '2025-06-26T23:13:17+02:00', 'start_index': 6, 'page_label': '63', 'aapl:keywords': '[]'}, page_content='During the micronova, I do expect the existing structures to break down as the energy induces to the core. If the core is bathed in energy, within the shockwave, and there is not a proper pathway for discharge outward, we could see the same “RCE”-like North/South plume-out from the core in new internal structures. They would then pull the earth 90 degrees, sit at the equator, and reset the poles the next cycle.  If the new plumes came out perfectly identical and symmetrical around the spin axis, maybe nothing happens. If there is any deviation, they will want to spin at the equator, like Einstein knew weight asymmetries would. This is millions of times the weight of Greenland and Antarctica, and Einstein was only about 50x short. 50x sounds psychotic when thinking about piling ice on top of Greenland- but not so much if core plumes weigh as much as continents.  As a matter of interest, the African lobe is taller, less dense and more vulnerably oriented against the mantle motion than'), Document(id='d220a8df-497f-4632-bb49-94c99eb30943', metadata={'title': 'The Next End of the World', 'start_index': 0, 'moddate': '2025-06-26T23:13:17+02:00', 'source': 'The_Next_End_of_the_World_PDF.pdf', 'aapl:keywords': '[]', 'creator': 'Word', 'author': 'Ben D', 'creationdate': \"D:20210314144439Z00'00'\", 'page': 101, 'producer': 'Mac OS X 10.13.6 Quartz PDFContext', 'total_pages': 109, 'keywords': '', 'page_label': '102', 'subject': ''}, page_content='102\\t\\n Earth’s North & South Magnetic Pole Motion [Since Modern Shift Began in 1859]  \\n \\n  Magnetic north is racing across the Arctic sea and the magnetic south is moving into the Indian Ocean.')]\n",
      "\n",
      "\n",
      "Answer: Based on the provided context, the new poles of the Earth are predicted to be the **Bay of Bengal and Ecuador**.\n"
     ]
    }
   ],
   "source": [
    "result = graph.invoke({\"question\": \"Where will be the new poles of the earth?\"})\n",
    "\n",
    "print(f\"Context: {result['context']}\\n\\n\")\n",
    "print(f\"Answer: {result['answer']}\")"
   ]
  }
 ],
 "metadata": {
  "kernelspec": {
   "display_name": "langchain_tutorials",
   "language": "python",
   "name": "python3"
  },
  "language_info": {
   "codemirror_mode": {
    "name": "ipython",
    "version": 3
   },
   "file_extension": ".py",
   "mimetype": "text/x-python",
   "name": "python",
   "nbconvert_exporter": "python",
   "pygments_lexer": "ipython3",
   "version": "3.11.13"
  }
 },
 "nbformat": 4,
 "nbformat_minor": 5
}
